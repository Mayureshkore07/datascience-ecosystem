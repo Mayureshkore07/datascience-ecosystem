{
  "metadata": {
    "kernelspec": {
      "name": "python",
      "display_name": "Python (Pyodide)",
      "language": "python"
    },
    "language_info": {
      "codemirror_mode": {
        "name": "python",
        "version": 3
      },
      "file_extension": ".py",
      "mimetype": "text/x-python",
      "name": "python",
      "nbconvert_exporter": "python",
      "pygments_lexer": "ipython3",
      "version": "3.8"
    }
  },
  "nbformat_minor": 5,
  "nbformat": 4,
  "cells": [
    {
      "id": "725144d7-8e4a-4fb3-9113-d8ca7fcfa7cf",
      "cell_type": "markdown",
      "source": "",
      "metadata": {}
    },
    {
      "id": "cde8bfc1-c4c8-4189-b1f2-44ff9dde379d",
      "cell_type": "markdown",
      "source": "## Author  \nmayuresh kore",
      "metadata": {}
    },
    {
      "id": "a20aa146-4d57-499d-8e30-f161d2ada573",
      "cell_type": "code",
      "source": "",
      "metadata": {
        "trusted": true
      },
      "outputs": [],
      "execution_count": null
    }
  ]
}